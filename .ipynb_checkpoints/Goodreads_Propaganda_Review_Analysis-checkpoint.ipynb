{
 "cells": [
  {
   "cell_type": "code",
   "execution_count": 3,
   "metadata": {},
   "outputs": [],
   "source": [
    "## Import Modules\n",
    "from bs4 import BeautifulSoup\n",
    "import requests"
   ]
  },
  {
   "cell_type": "code",
   "execution_count": 4,
   "metadata": {},
   "outputs": [],
   "source": [
    "# Retrieve BeautifulSoup Object for Propaganda from Goodreads\n",
    "url = \"https://www.goodreads.com/book/show/493212.Propaganda\"\n",
    "response = requests.get(url)\n",
    "soup = BeautifulSoup(response.text, 'lxml')"
   ]
  },
  {
   "cell_type": "code",
   "execution_count": 5,
   "metadata": {},
   "outputs": [],
   "source": [
    "# Display Content from Page\n",
    "# print(soup.prettify())"
   ]
  },
  {
   "cell_type": "code",
   "execution_count": 17,
   "metadata": {},
   "outputs": [],
   "source": [
    "# Obtain list of review IDs contained within link tags\n",
    "results = soup.find_all(\"a\", class_=\"reviewDate createdAt right\")"
   ]
  },
  {
   "cell_type": "code",
   "execution_count": 18,
   "metadata": {},
   "outputs": [],
   "source": [
    "# Create array for results, convert HREF tag to string, split to review ID\n",
    "result_array = []\n",
    "for result in results:\n",
    "    try:\n",
    "        link = result['href']\n",
    "        if (link):\n",
    "            link_part_one = link.split('/show/')\n",
    "            link_part_two = link_part_one[1].split(\"?\")\n",
    "            result_array.append(link_part_two[0])\n",
    "    except AttributeError as e:\n",
    "        print(e)"
   ]
  },
  {
   "cell_type": "code",
   "execution_count": 8,
   "metadata": {},
   "outputs": [
    {
     "data": {
      "text/plain": [
       "['262237169',\n",
       " '208623479',\n",
       " '488043',\n",
       " '1141751269',\n",
       " '496519026',\n",
       " '216465244',\n",
       " '806109223',\n",
       " '1774099805',\n",
       " '11042094',\n",
       " '1459007908',\n",
       " '499105076',\n",
       " '2185882452',\n",
       " '376712572',\n",
       " '262279375',\n",
       " '1961293373',\n",
       " '1256098674',\n",
       " '1917539508',\n",
       " '1934259674',\n",
       " '840110618',\n",
       " '625443594',\n",
       " '962083199',\n",
       " '544374580',\n",
       " '1547227476',\n",
       " '708662878',\n",
       " '1971073267',\n",
       " '897838135',\n",
       " '2530749972',\n",
       " '2126309992',\n",
       " '2321292531',\n",
       " '183461047']"
      ]
     },
     "execution_count": 8,
     "metadata": {},
     "output_type": "execute_result"
    }
   ],
   "source": [
    "# Display IDs within Array\n",
    "result_array"
   ]
  },
  {
   "cell_type": "code",
   "execution_count": 9,
   "metadata": {},
   "outputs": [
    {
     "name": "stdout",
     "output_type": "stream",
     "text": [
      "https://www.goodreads.com/review/show/262237169?book_show_action=true\n",
      "https://www.goodreads.com/review/show/208623479?book_show_action=true\n",
      "https://www.goodreads.com/review/show/488043?book_show_action=true\n",
      "https://www.goodreads.com/review/show/1141751269?book_show_action=true\n",
      "https://www.goodreads.com/review/show/496519026?book_show_action=true\n",
      "https://www.goodreads.com/review/show/216465244?book_show_action=true\n",
      "https://www.goodreads.com/review/show/806109223?book_show_action=true\n",
      "https://www.goodreads.com/review/show/1774099805?book_show_action=true\n",
      "https://www.goodreads.com/review/show/11042094?book_show_action=true\n",
      "https://www.goodreads.com/review/show/1459007908?book_show_action=true\n",
      "https://www.goodreads.com/review/show/499105076?book_show_action=true\n",
      "https://www.goodreads.com/review/show/2185882452?book_show_action=true\n",
      "https://www.goodreads.com/review/show/376712572?book_show_action=true\n",
      "https://www.goodreads.com/review/show/262279375?book_show_action=true\n",
      "https://www.goodreads.com/review/show/1961293373?book_show_action=true\n",
      "https://www.goodreads.com/review/show/1256098674?book_show_action=true\n",
      "https://www.goodreads.com/review/show/1917539508?book_show_action=true\n",
      "https://www.goodreads.com/review/show/1934259674?book_show_action=true\n",
      "https://www.goodreads.com/review/show/840110618?book_show_action=true\n",
      "https://www.goodreads.com/review/show/625443594?book_show_action=true\n",
      "https://www.goodreads.com/review/show/962083199?book_show_action=true\n",
      "https://www.goodreads.com/review/show/544374580?book_show_action=true\n",
      "https://www.goodreads.com/review/show/1547227476?book_show_action=true\n",
      "https://www.goodreads.com/review/show/708662878?book_show_action=true\n",
      "https://www.goodreads.com/review/show/1971073267?book_show_action=true\n",
      "https://www.goodreads.com/review/show/897838135?book_show_action=true\n",
      "https://www.goodreads.com/review/show/2530749972?book_show_action=true\n",
      "https://www.goodreads.com/review/show/2126309992?book_show_action=true\n",
      "https://www.goodreads.com/review/show/2321292531?book_show_action=true\n",
      "https://www.goodreads.com/review/show/183461047?book_show_action=true\n"
     ]
    }
   ],
   "source": [
    "# Create array of links from IDs\n",
    "link_array = []\n",
    "for id in result_array:\n",
    "    try:\n",
    "        link = \"https://www.goodreads.com/review/show/\" + id + \"?book_show_action=true\"\n",
    "        if (link):\n",
    "            print(link)\n",
    "            link_array.append(link)\n",
    "    except AttributeError as e:\n",
    "        print(e)\n"
   ]
  },
  {
   "cell_type": "code",
   "execution_count": 10,
   "metadata": {},
   "outputs": [],
   "source": [
    "# Create array to contain reviews\n",
    "# Retrieve BeautifulSoup object for each item in link_array\n",
    "# Parse this object to the tag containing text\n",
    "review_array = []\n",
    "for link in link_array:\n",
    "    try:\n",
    "        response = requests.get(link)\n",
    "        soup = BeautifulSoup(response.text, 'lxml')\n",
    "        if (soup):\n",
    "            results = soup.find_all(\"div\", class_=\"reviewText mediumText description readable\")\n",
    "            review_array.append(results)\n",
    "    except AttributeError as e:\n",
    "        print(e)"
   ]
  },
  {
   "cell_type": "code",
   "execution_count": 14,
   "metadata": {},
   "outputs": [],
   "source": [
    "# Convert result objects to tag objects\n",
    "review_tag_array = []\n",
    "for result in review_array:\n",
    "    try:\n",
    "        review = result[0]\n",
    "        if (review):\n",
    "            review_tag_array.append(review)\n",
    "    except AttributeError as e:\n",
    "            print (e)\n",
    "            "
   ]
  },
  {
   "cell_type": "code",
   "execution_count": 15,
   "metadata": {},
   "outputs": [],
   "source": [
    "# Convert tag objects to raw text\n",
    "final_review_array_final = []\n",
    "for review in review_tag_array:\n",
    "    try:\n",
    "        text = review.text.strip()\n",
    "        if (text):\n",
    "            final_review_array_final.append(text)\n",
    "    except AttributeError as e:\n",
    "            print (e)"
   ]
  },
  {
   "cell_type": "code",
   "execution_count": 16,
   "metadata": {},
   "outputs": [
    {
     "data": {
      "text/plain": [
       "'Bernays argues that the manipulation of public opinion is necessary for a stable and well functioning society. I found just about every paragraph of this book to be disturbing... especially considering how much power and influence he had during his lifetime - remembered as \"the father of public relations\". Five stars because this is the kind of stuff you aren\\'t taught in history class.\"THE systematic study of mass psychology revealed to students the potentialities of invisible government of society by manipulation of the motives which actuate man in the group. ... If we understand the mechanism and motives of the group mind, is it not possible to control and regiment the masses according to our will without their knowing it?\" pg47\"If you can influence the leaders, either with or without their conscious cooperation, you automaticallyinfluence the group which they sway. But men do not need to be actually gathered together in apublic meeting or in a street riot, to be subject to the influences of mass psychology. Because man is by nature gregarious he feels himself to be member of a herd, even when he is alone in his room with thecurtains drawn. His mind retains the patterns which have been stamped on it by the group influences.\" pg49 This is a brief little instruction manual on the usage of propaganda, primarily as a public relations tool for businesses and corporations. Here propaganda has two goals: molding the minds of the public so as to teach or \\'improve\\' them as they cannot govern themselves, or improving their relationships with the business sector.The political usage of propaganda is only briefly discussed, but here the ideas are so commonly used as to be obvious. Every pollster and kingmaker worth his Super-PAC money should know these. The political candidate is to be treated a product to be marketed and sold, and should speak and act so that they connect with the widest number of interest groups, should make their presence known though every media possible, and motivate the voters enough to increase turnout.The funny part is that the word propaganda had only a mildly negative connotation at the time of this writing, being largely associated with the propagation of church dogmas from the pope. This book is a public relations version of itself, substituting such positive words as \\'education\\' for \\'indoctrination\\'. I cite the last two paragraphs for Bernays\\' assessment of his own field\\'s future:If the public becomes more intelligent in its commercial demands, commercial firms will meet the new standards. If it becomes weary of the old methods used to persuade it to accept a given idea or commodity, its leaders will present their appeals more intelligently.Propaganda will never die out. Intelligent men must realize that propaganda is the modern instrument by which they can fight for productive ends and help to bring order out of chaos.Telling stuff. A relevant and influential tract despite its age. I give this book no stars because it is a chilling read into the virtual manifesto of who some have labeled as the \"father of modern public relations.\" In this book, Bernays hails \\'the engineering of consesnt,\\' as new and glorious process that has been enabled with the advent of new and technological innovation. With such tools, as Bernays argues, it will be easier and more necessary to augment the minds of the masses in order to seperate the realm of politics and social life. The \\'engineering of consent,\\' which is seemingly a spin from Lippman\\'s term \\'the manufacture of consent,\\' is in Bernays eyes, a process that must be utilized by a specialized class of men in order to influence, control, and direct the minds of the common man. I speak in general terms because Bernays speaks in generalized terminology. This book is in agreement with Walter Lippman\\'s \"Public Opinion,\\' in that control of these processes is crucially reserved to specificed private enterprise in order to keep decision making out of the realm of the public. In this book as well as Lippman\\'s, there is an underlying belief that \"the common man,\" left to his own will is lost and bewildered, and must be controled and regimented in order to make \\'proper\\' and \\'correct\\' decisions. The one thing I do appreciate about this text is the title, at least in the early 20th century they were a bit more honest with their line of business. The fact that I am struggling to come up with a rating for this book, because I feel extremely ambivalent about its contents, doesn\\'t mean it is not a book that shouldn\\'t be read. It\\'s an extremely important history book for anyone interested in how society really works... نحن نعتقد أننا نملك حرية الإرادة المطلقة، حرية إختيار ما نريد وقتما نريد. كما أننا بارعون في تقديم أسباب منطقية لتصرفاتنا. لكن توقف قليلاً.. ماذا أكلت على مائدة الإفطار هذا الصباح؟ بالطبع لم يكن على مائدتك خروف محشي! وماذا عن طراز ثوبك، هل هو نفس الطراز الذي كنت تلبسه قبل عام من الآن؟ وما المنزل الذي تريد العيش فيه؟ وما هي سيارة أحلامك؟.. ربما تظن أنك كنت حراً في اختياراتك وأحلامك تلك، لكن ما لا تعلمه هو أنك لست سوى مستهلك أعمى ذو سلوك حتمي، يمكن توقعه والسيطرة عليه. أنت كنت، كأغلب الناس، أحد ضحايا إدوارد بيرنيز!ـإدوارد بيرنيز هو رائد في \"فن\" البروباجندا. مستعيناً بعمه سيغموند فرويد، استطاع بيرنيز تطويع وتطوير البروباجندا من أجل السيطرة على عقول العامة وتوجيهها، وليعلن بذلك بداية عصر المستهلك. ولأن مصطلح البروباجندا يحمل دلالات سلبية، قام إدوارد بإختراع مصطلح جديد وهو \"العلاقات العامة\". وكان هذا الإنجاز، مهما بدا لنا بسيطاً، هو أول نجاح يسجل لبيرنيز. قبل ذلك الوقت كان التسويق قائماً علي وظيفة السلعة و حاجة الإنسان إليها. كان من المعتاد أن توصف السلعة بأنها قوية التحمل، أو طويلة العمر، أو رخيصة السعر، وهكذا. لكن بيرنيز أتى بفكرة جديدة. اكتشف بيرنيز أن هناك غرائز ودوافع خفية تتحكم في سلوك الإنسان، وأن هذه الدوافع الخفية يمكن استخدامها من أجل التسويق لسلعة ما، وذلك عن طريق إشباعها. ليس بالضرورة أن يكون المرء محتاجاً لسلعة ما لكي يشتريها، بل يجب أن يشعر المستهلك بأن حياته ناقصة دونها. وهذه المادة الإعلانية خير مثال، الإعلان لا يتحدث عن ميزات هذا النوع من البنطلونات، بل يحاول، قدر الإمكان، ربط هذه الماركة بالرغبات الإنسانية الدفينة (كالجنس، وحب الشهرة والتملك والمرتبة العالية) وكأن الماركة هي المسؤولة عن هذا كله.يرى بيرنيز كذلك أن الناس أغبياء بطبعهم وغير منطقيين، وبالتالي لا يُؤتمنون على اتخاذ القرارات المهمة التي تخصهم وتخص دولتهم. لذلك يرى إدوارد أن البروباجندا هي الوسيلة الوحيدة لكي يستطيع الصفوة من المتنورة السيطرة على الغالبية الغوغاء. وهذا ما حصل فعلاً، فأعمال بيرنيز كانت مصدر إلهام لجوزيف غوبلز، وزير الدعاية السياسية والبروباجندا في عهد هتلر. ولا نستطيع أن ننسى جمهورية الموز أيضاً!ـهذا الكتاب عبارة عن كتيب إرشادي يقدمه بيرنيز لكيفية إستخدام البروباجندا في توجيه الشعوب. يعتقد بيرنيز أن البروباجندا يمكن استخدامها لأغراض سلمية وإيجابية، كوسيلة لإعلاء صوت الأقليات والمقهورين، أو لنشر قيم مجتمعية معينة كالعدل وتقبل الآخر، لكن ربما هذه وسيلة أخرى من وسائله لتسويق سلعته هذه المتمثلة في هذا الكتاب. قد أختلف كثيراً مع الكاتب في أكثر من نقطة، لكنه كتاب يستحق القراءة بالفعل.هذا الفيلم الوثائقي مكون من 4 أجزاء، ويتحدث عن إدوارد بيرنيز وعن صراع البروباجندا وإرهاصاته.The Century Of The Self - BBChttp://youtu.be/s7EwXmxpExw There\\'s nothing quite like this. An absolutely unapologetic argument in favor of propaganda as the key tool available to the elite who form the \"invisible government\" directing the course of modern society. Published in 1928, the book is an attempt to rehabilitate \"propaganda\" as a nece3ssary and ultimately benevolent part of a democratic society. While that attempt failed in the narrow sense--it was running an uphill battle in the wake of WW I with Hitler and Stalin just down the road--Bernays is damn near prophetic in his vision of Public Relations as the central organizing principle of every sphere of modern life: business, politics, education, art....What\\'s stunning is how absolutely open Bernays is about his vision. Today, those who hold to it and run with it cloak it in all kinds of evasions (an approach Bernays would certaintly understand). Almost everything I can\\'t stand about modern American life is the result of his ideas being put into practice. It\\'s sort of like picking up your opponent\\'s playbook after leaving the locker room following a 73-0 loss.I\\'m sticking with the one star rating--I hate everything about the vision Bernays asserts--but I\\'ll add the footnote that anyone interested in the world we\\'re living in should probably read it.The introduction by Mark Crispin Miller is excellent. You can get most of what\\'s in the book by reading it, but that would be like settling for the abstract of a Stephen King novel. The horror\\'s in the unfolding. \"THE conscious and intelligent manipulation of the organized habits and opinions of the masses is an important element in democratic society. Those who manipulate this unseen mechanism of society constitute an invisible government which is the true ruling power of our country.\"We are governed, our minds are molded, our tastes formed, our ideas suggested, largely by men we have never heard of. [...] They govern us by their qualities of natural leadership, their ability to supply needed ideas and by their key position in the social structure.\"[...]\"No serious sociologist any longer believes that the voice of the people expresses any divine or specially wise and lofty idea. The voice of the people expresses the mind of the people, and that mind is made up for it by the group leaders in whom it believes and by those persons who understand the manipulation of public opinion. It is composed of inherited prejudices and symbols and cliches and verbal formulas supplied to them by the leaders.\"Fortunately, the sincere and gifted politician is able, by the instrument of propaganda, to mold and form the will of the people.\" This book was originally published in 1928, with a new edition in 2005 with an added introduction by Mark Crispin Miller, professor of media studies at NYU, known for his writing on American media and his activism on behalf of democratic media reform. It\\'s quite possibly the best part of this book, which gives the basic tenants of the positive and negative aspects of propaganda since its first use in World War I. These basic tenants boil down to the disturbing but not unknown means by which \"public relations\" experts shape and manipulate public opinion in the interests of government and corporations. Author Edward Bernays pioneered the \"scientific\" technique (my quotes) of what he called the engineering of consent, and what the back-cover blurb terms his \"prescient vision for regimenting the collective mind.\" It\\'s a slim book, 168 pages in paperback. The major points are made, and remade, in the first 95 pages. The remaining 73 pages can be rapidly skimmed. But those first 95 pages are essential reading for all of us who, as the publisher states, \"wish to understand how power is used by the ruling elite of our society.\" Especially at this time in our country\\'s history when greed is ruling our economy and craziness is threatening to take over our government. Bernays is popularly known (sometimes in competition with Ivy Lee) as the \"father of public relations,\" and PROPAGANDA is a large part of why. It\\'s a wholly enthusiastic and spirited call for business leaders and politicians of the 1920s to shape the mind (singular, not plural) of the masses. I suspect that it\\'s the sheer shameslessness of Bernays\\'s attitude toward his subject that is the reason contemporary critics like Mark Crispin Miller, Neil Postman, and Stewart Ewen keep discussing him. (Not to mention that he was Sigmund Freud\\'s nephew and only died in 95 at 104!). The first sentence says it all: \"The conscious and intelligent manipulation of the organized habits and opinions of the masses is an important element in a democratic society.\" Just how we reconcile \\'manipulation\\' with \\'democracy\\' isn\\'t something Bernays is particularly worried about---for him, business leaders are exemplums of Social Darwinism who have risen to the top because they\\'re best suited to save society from the messiness of mob mentality. Bernays was personally something of a comic figure---a Groucho-esque character---which is why much of the vituperation leveled at his Rovian heirs escapes him. Still, PROPAGANDA is a pretty chilling reminder that some people genuinely do believe that consent MUST be engineered for America and democracy to exist. Strangely enough, those folks often nominate themselves to be the engineers. Best read with a dollop of Walter Lippmann as an antidote.PS. Miller\\'s intro to the 05 edition offers an excellent history of the word \\'propaganda.\\' Especially interesting is how the pejorative connotations of it didn\\'t become its dominant meaning until the post-WWI era. Edward Bernays\\' book Propaganda is about public relations (PR). Bernays invented PR, but in this book it is called by a more honest name: \\'propaganda\\'. In the old days, propaganda just meant what modern-day PR means: advocating on behalf of an organization (or government or business) and explaining and justifying the institution to the public.Here are some choice quotes from Bernays\\' book:The conscious and intelligent manipulation of the organized habits and opinions of the masses is an important element in democratic society. Those who manipulate this unseen mechanism of society constitute an invisible government which is the true ruling power of our country...Men are rarely aware of the real reasons which motivate their actions. A man may believe that he buys a motor car because, after careful study of the technical features of all makes on the market, he has concluded that this is the best. He is almost certainly fooling himself. He bought it, perhaps, because a friend whose financial acumen he respects bought one last week; or because his neighbors believed he was not able to afford a car of that class; or because its colors are those of his college fraternity...Business realize that its relationship to the public is not confined to the manufacture and sale of a given product, but includes at the same time the selling of itself and of all those things for which it stands in the public mind...The public relations counsel should anticipate such trends of public opinion and advise on how to avert them, either by convincing the public that its fears or prejudices are unjustified, or in certain cases by modifying the action of the client to the extent necessary to remove the cause of complaint. In such a case public opinion might be surveyed and the points of irreducible opposition discovered...Modern business must have its finger continuously on the public pulse. It must understand the changes in the public mind and be prepared to interpret itself fairly and eloquently to changing opinion...Present-day politics places emphasis on personality. An entire party, a platform, an international policy is sold to the public, or is not sold, on the basis of the intangible element of personality. A charming candidate is the alchemist\\'s secret that can transmute a prosaic platform into the gold of votes.This work was published in 1928.If you\\'re not interested in reading the book, there is a great podcast from the guys at Stuff You Should Know, in an episode called \"How Public Relations Works.\" In a modern mass democracy, the elite cannot force the serfs to accept unpopular or unproven ideas. Therefore, the elite has the problem of governing the rabble in a mass democracy.So, the elite promotes and shapes information to influence the desires of the masses - thereby garnering the consent of the governed. The masses may even believe themselves to be the source of societal, economic or political change.I think the takeaway for you is to consider the role of information in a society and what marketing may be called upon to do from time to time.Edward Bernays (a nephew of Sigmund Freud no less!) wrote the book. This was one of the first books to articulate this concept (1928). \"Propaganda will never die out. Intelligent men must realise that propaganda is the modern instrument by which they can fight for productive ends and help to bring order out of chaos.\"\\nPropaganda is a loaded term. And not many associations we have with it today are positive - it makes us think of politicians trying to get your vote, companies trying to get your purchase. But in Propaganda, Edward L. Bernays examines the origins and functions of a concept that he sees as the fundamental part of basically any society there is. It\\'s an examination of how propaganda shapes public opinions and how it influences politics, business, art and science. It\\'s worth mentioning that Edward L. Bernays himself is a rather interesting figure as well. The nephew of psychoanalyst Sigmund Freud is today known as the Father of Public Relations and is the reason why we consider bacon today an All-American Breakfast or why it became acceptable (or even fashionable) for women to smoke in public. Propaganda fits rather nicely into his background. He argues that every democracy works on basis of common agreement to let an invisible government narrow choices down for us when it comes to making decisions of what to consume, invest in or even approve of. \\n\"We accept a standardised code of social conduct to which we conform most of the time.\"\\nA lot of it might seem like common knowledge today, but it\\'s astonishing when you think about the fact that this has been written in 1928 - almost a century ago! And still it is relevant, when we look at how social media influences what teenagers consider beautiful, when we think of how runway trends shape the latest fashion trends or even how adverts convince us of the superiority of a product.It\\'s a short, but fascinating and somehow even scary read. We are being lured into having opinions and even being aware of it doesn\\'t necessarily \"free\" you from the influences that others have on you. Food for thought. You\\'ll hardly find anything new in this book. Well, the author\\'s opinion may surprising to a certain extent. He\\'s one of the fathers of PR (a term he used instead of propaganda, because the latter word had acquired some negative connotations after the War) and he seems steel confident that propaganda is an absolutely necessary tool in a democratic society. His honesty and apparent naiveness are what make the book worth reading. He shows how propaganda is and must be used in business, politics, education, arts and so on. It\\'s true that at times the purposes for which he recommends propaganda are good ones, but he is too unconcerned with the risk and dangers of propaganda. He simply states that there are no guarantees against its misuse. An that\\'s all. He, one of those who revolutioned propaganda, simply says that \"yes, it may be abused and misused\" and that\\'s all. No tools for controlling it, no methods of fighting it, just a tiny, tiny code of ethics which is hardly convincing. His naivety may easily be explained by the fact that this book is itself a form of propaganda, it\\'s propagandising propaganda and trying to make it more acceptable to the public opinion. In other words, the man is just advertising his profession. He may not fool a modern reader, but in 1928 he may have well succeeded. I didn`t believe Propiganda was real till I read this easy to read Book on Controling human beings minds Withouth their Knowledge. This book is the most powerful book on mind control of the masses ever allowed to be seen by the public. It is a tool all governments and Cororations aspire to. It is all about Controling others without their knowledge. The writer I feel was a sociopathic if not psychopathic manipulator, people like this writer are why we are killing off one another...yep another great book written by a souless Socipoathic (or) Psychopathic Head Case...Amazing info though, thanks for sharing your work with the masses in what your Corporate, Government and all other Human Manipulating Machines out there do best...Manipulate to their own Psychopathic ends :) See you in Hell Bernays ;) I give you 5 stars because you let me know Propiganda is Alive and Well...thing is in order for it to work, I have to Not be aware of it...you made me aware and for this you get 5 Stars...Again I say See you in Hell Bernays ;) ! Bernays came to my attention through Adam Curtis\\' fascinating documentary The Century of the Self. I wanted to learn more, so I picked up this book. Mostly, these are quaint reflections on the rise of public relations in American commerce in the post-WWI period. Mixed in, however, are some disturbing truths on the power of propaganda to control the masses. \"The conscious and intelligent manipulation of the organized habits and opinions of the masses is an important element in democratic society. Those who manipulate this unseen mechanism of society constitute an invisible government which is the true ruling power of our country.\"As modern humans, we like to think our status/dignity derives from the ability to make choices — to find oneself, or shape one\\'s own destiny and identity. But I have to admit: I\\'m haunted by the view of Nietzsche, who said the \"dignity of man\" is \"slavery hiding from itself.\" Bernays talks about old-fashioned, turn-of-the-century advertising: \"YOU (perhaps with a finger pointing at the reader) buy O\\'Leary\\'s rubber heels — NOW.\" The idea was to break down sales resistance through hectoring and emphasis. Bernays\\' new propaganda, on the other hand, sets up \"psychological and emotional currents\" which move the customer to buy while thinking it\\'s \"his own idea.\"It\\'s deep and sinister stuff, informed by Freud (who was Bernays\\' uncle) and the unconscious mind. It recognizes that \"men are very largely actuated by motives which they conceal from themselves.\"A great illustration (not touched on in this book) is Bernays\\' \"Torches of Freedom\" campaign to encourage women to smoke cigarettes. In 1929 he paid women to march in the Easter Sunday parade flaunting their cigarette smoking as a symbol of women\\'s liberation. The campaign was very effective, with revivals over many decades like \"You\\'ve come a long way, baby.\"But step back, and refocus. Women are being manipulated into lives of slavery to tobacco by invisible wirepullers (as Bernays call people like himself). Yet at the same time, they are convinced they are making this choice entirely of their own accord. Expressing their self, and their freedom, and their identity. As Orwell put it: \"Freedom is Slavery.\" One can\\'t help but wonder: Is the modern \"self\" entirely a manufactured product? Once you see it, you see it everywhere. It\\'s like the signature idea of the world in the 21st century. Some parts brilliant, some parts frightening, one thing is true, he had a low opinion of democracy. Potpuno je neverovatno da je jedna ovako važna knjiga štampana u tiražu od samo 150 (sto pedeset) primeraka u izdavačkoj kući Ammonite. Edvard Bernajs, koji se smatra ocem propagande i odnosa s javnošću, objavio ju je u Njujorku 1928. godine, a ovo je, koliko je meni poznato, prvi i jedini prevod ovog naslova na srpski jezik. Pravi kuriozitet predstavlja činjenica da je Bernajs ovu knjigu, čiji je podnaslov \"Stvaranje javnog mnjenja\", pisao ne kao teoretičar ovog fenomena, već kao čovek kojem je stvaranje propagande bio posao. Neke od propagandnih kampanja ovog austrijsko-američkog Jevrejina ticale su se cigareta Lucky Strike i fluorizacije američke vode. Podeljena u jedanaest poglavlja, ova izuzetno dobro promišljena i odličnim primerima potkrepljena i argumentovana studija pokazuje šta je propaganda, na koji način funkcioniše i ko su ljudi koji se njome bave. S obzirom na to da sam je čitao u vreme predizbornih kampanja, pomogla mi je da uvidim koliko je lako manipulisati javnim mnjenjem. Edward Bernay\\'s had a very hopeful and optimistic view on the use of propaganda to achieve social and political change. It truly did work at one time. But as usual, the positives of the past become the negatives of the present. If you want to begin to understand the world for yourself you have to see how others have inculcated their ideas into you through mass media and other forms of cultural and political rohipnol. It\\'s important to understand your own psychic vulnerability and to realize how much energy is put towards keeping your mind shuttered. As long as you\\'re stuck in the pre-manufactured paradigms reality will be determined by those who don\\'t have your best interests at heart. Reading books like this is a good start towards understanding how great masses of people continue to be pawns and sheep. Much of the book is a waste of space but it\\'s a short read and a few gems make it worth your time. It almost seems like the confession of a man who feels guilty but is still justifying himself.Karl Rove said, \"We\\'re an empire now, and when we act, we create our own reality. And while you\\'re studying that reality—judiciously, as you will—we\\'ll act again, creating other new realities, which you can study too, and that\\'s how things will sort out. We\\'re history\\'s actors ... and you, all of you, will be left to just study what we do.\" This book is a classic for a writer who basically innovated the craft of advertisement as we know it today. Being Freud\\'s nephew, he took his uncle\\'s teachings of human psychology to come up with these fresh ideas, hence it\\'s pretty interesting to see the underlying linkage between the teachings of the two men.As any other classic, you don\\'t expect something you\\'re not already familiar with, after all the art of propaganda has advanced a lot in unfathomable ways at the moment but it\\'s nice to see the basics stripped bare. Also it is interesting to see his persistence of turning this into a respectable science with a noble cause.. something that\\'s very far away from the truth of propaganda or at least from the ends that such techniques are implemented nowadays to reach.As a conclusion, I liked Bernays an awful lot more than his uncle for being more practical and less arrogant. A manuscript expounding the dubious virtue of a de facto paternalistic dictatorship--nonetheless asserted by the author as being benevolent and democratic--in which its presumed inherently incompetent and chronically uninformed members are taken by the proverbial hand in everything they do by invisible authority figures utilizing ubiquitous propaganda. It\\'s a work of propaganda (on propaganda itself also) that strongly reminded me of that ancient other work of propaganda on the definition of an ideal (Nanny) State: The Republic by Plato (actually, by Socrates and recorded by his pupil Plato). The book also reminded me of Goebbels and his confession that he admired Bernays\\' work and went to base Nazi propaganda on it. It is amazing how relevant this book still is, despite being published in 1928. It’s more about public relations, government, and marketing than it is about selling. I read it off an old, terrible, scanned PDF, and was thrilled to see it finally reprinted for modern consumption. This book goes deep in to the public psyche–the consciousness of the masses. Bernays depicts public society as a dangerous, irrational collective that requires manipulation in order to function in a democratic manner over the long term. It’s a little Machiavellian, kind of dystopian, and very psychoanalytical (he was the nephew of Freud, after all), but it is a great read. I dunno about this. On one hand, yes propaganda has proved to be extremely effective in molding public opinion and purchasing patterns. On the other it only works in very specific scenarios and is quite limited in what can be accomplished. The book is very outdated. Nowadays we get exposed to propaganda and counter propaganda constantly. At this point, a good propaganda campaign is something that is necessary. Without it, any idea will be crushed by their opponents propaganda. I would say read the first 3 or 4 chapters, the rest just isn\\'t relevant except for people who are really interested in this subject. Indeed as the author said: \"propaganda will never die out\". Even though this book was written many decades ago, its contents are still very much relevant today albite with more modern means. Concise and very informative. Scary stuff. If you think you aren\\'t being manipulated, I\\'ve got news for you... A forgotten classic, maybe it\\'s good so few people know about it. Книжка Едварда Бернейса була написана в 1928-му і досі вважається однією із найвпливовіших книжок про маніпуляцію масовою свідомістю (або: з пропаганди; або: із зв*язків із громадськістю / PR). Мені здається, що на сьогодні вона буде цікава / корисна або з історичного погляду, або для людини, яка невинно нічогісінько не читала про те, як працює реклама чи політтехнології. Головний посил Бернейса: організована меншість керує неорганізованою більшістю за допомогою пропаганди, під якою Бернейс має на увазі цілеспрямовані кампанії, розраховані на несвідомі бажання чи страхи публіки (на яких автор радить грати і \"смикати за ниточки\"). Бернейс багато уваги приділяє впливові на авторитетів (адже саме вони -- ті, хто ведуть за своєю думкою розрізнені групи, з яких і складається більшість), а також тому, що потрібно створювати потреби, а не просто задовольняти їх. На початку книжки Бернейс захищає пропаганду як елемент створення суспільної згоди, на якій і тримається консенсус суспільства. Далі він артикулює (у 1928 році!) принципи, за якими працює сучасна реклама чи політтехнології. Цьому присвячена більшість тексту -- але, на жаль, про це написано стисло і досить-таки абстрактно, а тому для сучасного читача це можуть бути часом уже відомі речі. Я б окремо виділила те, що Бернейс постійно пише про важливість людини, яка і займається пропагандою, -- він називає її \"консультант зі зв*язків із громадськістю\". І він також усіляко підкреслює не тільки її важливість (наразі нема сенсу говорити про цю важливість -- це самоочевидні речі); але він наголошує на тому, що ця людина має бути етичною, тобто ніколи не припускати дезінформації чи брехні. Але, попри всі завіряння Бернейса, реклама просто так не працює: вона легко може використати правдиві дані для того, щоб принести прибутки певній корпорації. І ця маніпуляція не є \"чесною\", адже все одно за своєю суттю є підміною понять: я потребую спокою, а мені пропонують мило із заспокійливим запахом від відомої мильної корпорації (приклад абстрактний і мій). Власне, він сам про це пише, заганяючи це у формулу: скласти докупи бажання людей і товари бізнесів. Але бізнес при цьому, зрозуміло, якраз і \"смикає на ниточки\", створюючи бажання, а не задовольняючи наявні.Особисто мені книжка не принесла нового знання, хіба стало цікаво почитати більше про формування згоди як елементу демократії (але це швидше про державу і те, як формується \"громадянська позиція\" за допомогою ЗМІ -- може хтось щось порадить?). Я б краще прочитала ще одну книжку Д. Канемана. Edward Bernays was one of the founders of modern public relations and the namer of the art. He forthrightly called this book about the profession Propaganda, for he wanted to combat the bad connotations the term propaganda had accumulated even by the 1920s. Bernays considered public relations to be an unfortunately necessary euphemistic synonym. He preferred to focus on the propagate root of propaganda and considered the activity a value neutral tool that could be used for good as well as harm.The book, published in 1928, is an interesting historical document that is still relevant today. Bernays describes the uses of propaganda for various institutions – religion, politics, education, and so on – and gives examples of its successful employment. Considering that propaganda is universal today, and more sophisticated, it behooves the modern person to know something about its techniques. In this book Bernays - a professional propagandist - lays out the benefits and overall use of propaganda. His how-to guide for effective propaganda comes from a life spent swaying the masses. In a time where we are continuously bombarded with propaganda, it is important to peer behind the veil and consider the minds and motivations of the men who formulate and release mass propaganda campaigns. Information is always presented with bias. Wether you are interested in learning how to tailor your own propaganda, or educate yourself on what propaganda in its essence consists of, this is a great introductory lesson into the theory of mass persuasion through media barrage. Four stars because Bernays often looks at this issue through rose-colored glasses (presumably because of his professional life dedicated to the subject) and does not address the nefarious uses of these techniques adequately. A lot of this book makes it seem really sensible and practical to use propaganda in the way described, like it\\'s hard to argue that it\\'s the incurable evil that it seems to generally be felt to be, like there isn\\'t a coherent replacement for how we\\'d manage society without it, and I feel like that might be a mildly unsettling reaction but I can\\'t really justify it.'"
      ]
     },
     "execution_count": 16,
     "metadata": {},
     "output_type": "execute_result"
    }
   ],
   "source": [
    "# Combine text objects into one large block of text\n",
    "concatenated_array = final_review_array_final\n",
    "' '.join(concatenated_array)"
   ]
  },
  {
   "cell_type": "code",
   "execution_count": null,
   "metadata": {},
   "outputs": [],
   "source": []
  }
 ],
 "metadata": {
  "kernelspec": {
   "display_name": "Python 3",
   "language": "python",
   "name": "python3"
  },
  "language_info": {
   "codemirror_mode": {
    "name": "ipython",
    "version": 3
   },
   "file_extension": ".py",
   "mimetype": "text/x-python",
   "name": "python",
   "nbconvert_exporter": "python",
   "pygments_lexer": "ipython3",
   "version": "3.6.5"
  }
 },
 "nbformat": 4,
 "nbformat_minor": 2
}
